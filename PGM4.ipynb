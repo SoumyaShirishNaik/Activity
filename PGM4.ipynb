{
  "nbformat": 4,
  "nbformat_minor": 0,
  "metadata": {
    "colab": {
      "provenance": [],
      "authorship_tag": "ABX9TyP3ZeU2ItE37zAwqtYL9Rs/",
      "include_colab_link": true
    },
    "kernelspec": {
      "name": "python3",
      "display_name": "Python 3"
    },
    "language_info": {
      "name": "python"
    }
  },
  "cells": [
    {
      "cell_type": "markdown",
      "metadata": {
        "id": "view-in-github",
        "colab_type": "text"
      },
      "source": [
        "<a href=\"https://colab.research.google.com/github/SoumyaShirishNaik/Activity/blob/main/PGM4.ipynb\" target=\"_parent\"><img src=\"https://colab.research.google.com/assets/colab-badge.svg\" alt=\"Open In Colab\"/></a>"
      ]
    },
    {
      "cell_type": "code",
      "execution_count": 2,
      "metadata": {
        "colab": {
          "base_uri": "https://localhost:8080/",
          "height": 0
        },
        "id": "8Zhfl_dErSGc",
        "outputId": "e59a5010-f4e1-4712-9cc3-2df9109ba1fa"
      },
      "outputs": [
        {
          "output_type": "stream",
          "name": "stdout",
          "text": [
            "The dataset is:\n",
            "      sky airtemp humidity    wind water forecast enjoy\n",
            "0  sunny    warm   normal  strong  warm     same     Y\n",
            "1  sunny    warm     high  strong  warm     same     Y\n",
            "2  rainy    cold     high  strong  warm   change     N\n",
            "3  sunny    warm     high  strong  cool   change     Y\n"
          ]
        }
      ],
      "source": [
        "import pandas as pd\n",
        "df = pd.read_csv(\"/content/enjoysport (1).csv\")\n",
        "print('The dataset is:\\n', df)"
      ]
    },
    {
      "cell_type": "code",
      "source": [
        "data = df.iloc[0:, 0:7].values"
      ],
      "metadata": {
        "id": "nzShE1XvseVp"
      },
      "execution_count": 3,
      "outputs": []
    },
    {
      "cell_type": "code",
      "source": [
        "h = ['0','0','0','0','0','0']"
      ],
      "metadata": {
        "id": "ICQdeF0-sl3f"
      },
      "execution_count": 4,
      "outputs": []
    },
    {
      "cell_type": "code",
      "source": [
        "def Generalize(h, a):\n",
        "    for i in range(len(a)):\n",
        "        if(h[i] != a[i]):\n",
        "            h[i] = '?'\n",
        "        else:\n",
        "            h[i] = a[i]\n",
        "    return(h)\n"
      ],
      "metadata": {
        "id": "uZ93pur_slti"
      },
      "execution_count": 5,
      "outputs": []
    },
    {
      "cell_type": "code",
      "source": [
        "X = data[:, 0:6]\n",
        "Y = data[:, -1]\n",
        "if Y[0] == \"Y\":\n",
        "    h = X[0,:]\n",
        "else:\n",
        "    print(\"Error: First Example in not positive\")\n",
        "\n",
        "for i in range(len(X)):\n",
        "    if(Y[i] == \"Y\"):\n",
        "        h = Generalize(h,X[i,:])\n",
        "\n",
        "print(\"The more general than hypothesis is:\", h)"
      ],
      "metadata": {
        "colab": {
          "base_uri": "https://localhost:8080/",
          "height": 0
        },
        "id": "0nRTPbuvslqB",
        "outputId": "d46856a5-9e96-4b24-bb0b-26ca346a591e"
      },
      "execution_count": 6,
      "outputs": [
        {
          "output_type": "stream",
          "name": "stdout",
          "text": [
            "The more general than hypothesis is: ['sunny' 'warm' '?' 'strong' '?' '?']\n"
          ]
        }
      ]
    },
    {
      "cell_type": "code",
      "source": [],
      "metadata": {
        "id": "5OcA8kUFslea"
      },
      "execution_count": null,
      "outputs": []
    }
  ]
}